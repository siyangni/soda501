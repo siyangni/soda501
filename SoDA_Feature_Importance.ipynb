{
 "cells": [
  {
   "cell_type": "code",
   "execution_count": 21,
   "id": "52ecb49d-1782-4b20-8726-4c50aa2c2518",
   "metadata": {},
   "outputs": [],
   "source": [
    "import numpy as np\n",
    "import pandas as pd\n",
    "import matplotlib.pyplot as plt\n",
    "import warnings\n",
    "warnings.filterwarnings(action='ignore')"
   ]
  },
  {
   "cell_type": "code",
   "execution_count": 22,
   "id": "2a20bf26-2c3f-448d-b9a6-ca7361307607",
   "metadata": {},
   "outputs": [],
   "source": [
    "data = pd.read_csv(\"merged_data.csv\")\n",
    "data = data.iloc[:, 1:]\n",
    "\n",
    "X = data.drop(columns=['Nicotine12'])\n",
    "X = pd.DataFrame(X)\n",
    "y = data['Nicotine12']\n",
    "y = pd.DataFrame(y)"
   ]
  },
  {
   "cell_type": "code",
   "execution_count": 23,
   "id": "649b276f-8d32-4d2b-82e5-8c307064e6e6",
   "metadata": {},
   "outputs": [],
   "source": [
    "from sklearn.ensemble import RandomForestClassifier\n",
    "from sklearn.model_selection import train_test_split\n",
    "from sklearn.metrics import accuracy_score\n",
    "\n",
    "X_train, X_test, y_train, y_test = train_test_split(X, y, test_size=0.1, random_state=1337)"
   ]
  },
  {
   "cell_type": "markdown",
   "id": "e76ba270-0386-476f-9acf-df51adea51ff",
   "metadata": {},
   "source": [
    "# Random Forest Classifier Accuracy"
   ]
  },
  {
   "cell_type": "code",
   "execution_count": 24,
   "id": "5d7a811b-d565-4fa0-8e9c-43c70ed989e3",
   "metadata": {},
   "outputs": [
    {
     "name": "stdout",
     "output_type": "stream",
     "text": [
      "All Measures Accuracy: 0.6241116302240439\n"
     ]
    }
   ],
   "source": [
    "from sklearn.model_selection import GridSearchCV, KFold, cross_val_score\n",
    "\n",
    "np.random.seed(1337)\n",
    "\n",
    "#Search Params\n",
    "param_grid = {\n",
    "    'max_depth': [3, 4, 5],\n",
    "    'n_estimators': [100, 200, 300]\n",
    "}\n",
    "\n",
    "#Instantiate Random Forest\n",
    "rf = RandomForestClassifier()\n",
    "\n",
    "#Perform grid search\n",
    "grid_search = GridSearchCV(estimator = rf, param_grid = param_grid, cv = 20, scoring = 'accuracy')\n",
    "grid_search.fit(X_train, y_train)\n",
    "\n",
    "#Select Best Model Found\n",
    "best_model = grid_search.best_estimator_\n",
    "\n",
    "#Define cross-validation method to use\n",
    "cv = KFold(n_splits = 20, shuffle = True, random_state = 1337)\n",
    "\n",
    "#Use twenty-fold cross-validation to evaluate model accuracy\n",
    "scores = cross_val_score(best_model, X, y, scoring='accuracy', cv=cv, n_jobs=-1)\n",
    "\n",
    "#View mean accuracy\n",
    "accuracy = np.mean(scores)\n",
    "print(\"All Measures Accuracy:\", accuracy)"
   ]
  },
  {
   "cell_type": "markdown",
   "id": "04003013-0285-41e0-a483-016271c987c5",
   "metadata": {},
   "source": [
    "# Visualizing Feature Importance"
   ]
  },
  {
   "cell_type": "code",
   "execution_count": 25,
   "id": "5e692694-39d1-475d-af5a-fd493fb84894",
   "metadata": {},
   "outputs": [],
   "source": [
    "importances = best_model.feature_importances_"
   ]
  },
  {
   "cell_type": "code",
   "execution_count": 26,
   "id": "1abf6769-b821-4255-9733-4a217fe7217f",
   "metadata": {},
   "outputs": [
    {
     "data": {
      "image/png": "[encoded data removed]",
      "text/plain": [
       "<Figure size 720x432 with 1 Axes>"
      ]
     },
     "metadata": {
      "needs_background": "light"
     },
     "output_type": "display_data"
    }
   ],
   "source": [
    "#Sort feature importances in descending order\n",
    "indices = np.argsort(importances)[::-1]\n",
    "\n",
    "#Rearrange feature names so they match the sorted feature importances\n",
    "names = [X_train.columns[i] for i in indices]\n",
    "\n",
    "#Create plot\n",
    "plt.figure(figsize=(10, 6))\n",
    "plt.title(\"Feature Importance\")\n",
    "plt.bar(range(X_train.shape[1]), importances[indices])\n",
    "plt.xticks(range(X_train.shape[1]), names, rotation=90)\n",
    "plt.xlabel(\"Features\")\n",
    "plt.ylabel(\"Importance\")\n",
    "plt.show()"
   ]
  },
  {
   "cell_type": "code",
   "execution_count": null,
   "id": "3efe0809-dcfe-4d55-862a-e62d15bc064c",
   "metadata": {},
   "outputs": [],
   "source": []
  }
 ],
 "metadata": {
  "kernelspec": {
   "display_name": "Python 3",
   "language": "python",
   "name": "python3"
  },
  "language_info": {
   "codemirror_mode": {
    "name": "ipython",
    "version": 3
   },
   "file_extension": ".py",
   "mimetype": "text/x-python",
   "name": "python",
   "nbconvert_exporter": "python",
   "pygments_lexer": "ipython3",
   "version": "3.8.8"
  }
 },
 "nbformat": 4,
 "nbformat_minor": 5
}
